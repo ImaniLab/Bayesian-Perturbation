{
 "cells": [
  {
   "cell_type": "code",
   "execution_count": 1,
   "id": "5830faf9-d045-4178-9bd0-854a51708675",
   "metadata": {},
   "outputs": [
    {
     "name": "stdout",
     "output_type": "stream",
     "text": [
      "pygame 2.1.2 (SDL 2.0.16, Python 3.7.11)\n",
      "Hello from the pygame community. https://www.pygame.org/contribute.html\n"
     ]
    },
    {
     "name": "stderr",
     "output_type": "stream",
     "text": [
      "findfont: Font family ['Times New Roman'] not found. Falling back to DejaVu Sans.\n"
     ]
    },
    {
     "data": {
      "image/png": "[encoded data removed]",
      "text/plain": [
       "<Figure size 432x288 with 1 Axes>"
      ]
     },
     "metadata": {
      "needs_background": "light"
     },
     "output_type": "display_data"
    }
   ],
   "source": [
    "import gym\n",
    "import pygame\n",
    "import pickle\n",
    "import matplotlib.pyplot as plt\n",
    "import numpy as np\n",
    "from enum import IntEnum\n",
    "import dill\n",
    "from statistics import variance, mean, stdev\n",
    "\n",
    "from matplotlib import pyplot as plt\n",
    "\n",
    "import dill\n",
    "\n",
    "import random\n",
    "\n",
    "from itertools import product\n",
    "\n",
    "import torch\n",
    "import torch.nn as nn\n",
    "import torch.optim as optim\n",
    "from torch.autograd import Variable\n",
    "\n",
    "\n",
    "from sklearn.preprocessing import MinMaxScaler\n",
    "\n",
    "from collections import defaultdict\n",
    "\n",
    "# with open('4Gene2UnknownWithQsTestOnRealEnv_1.pkl','rb') as f:  # Python 3: open(..., 'wb')\n",
    "#     max_pis_ours, max_pis_random = pickle.load(f)\n",
    "#\n",
    "# with open('4Gene2UnknownWithQsTestOnRealEnvNoPerturbData_1.pkl','rb') as f:  # Python 3: open(..., 'wb')\n",
    "#     max_pis_NoPerturb = pickle.load(f)\n",
    "\n",
    "with open('stat_of_actions_AllOnes_Until50_ver2_BetterPerformance.pkl','rb') as f:  # Python 3: open(..., 'wb')\n",
    "    stat_of_actions = pickle.load(f)\n",
    "\n",
    "with open('stat_of_actions_Until50_ver2_AL.pkl','rb') as f:  # Python 3: open(..., 'wb')\n",
    "    stat_of_actions_AL = pickle.load(f)\n",
    "    \n",
    "with open('stat_of_actions_Until50_ver2_MAP.pkl','rb') as f:  # Python 3: open(..., 'wb')\n",
    "    stat_of_actions_MAP = pickle.load(f)\n",
    "    \n",
    "# print(stat_of_actions/np.sum(stat_of_actions))\n",
    "\n",
    "action_percent =stat_of_actions/np.sum(stat_of_actions)\n",
    "action_percent_AL =stat_of_actions_AL/np.sum(stat_of_actions_AL)\n",
    "action_percent_MAP =stat_of_actions_MAP/np.sum(stat_of_actions_MAP)\n",
    "\n",
    "\n",
    "font = {'size': 14}\n",
    "plt.rc('font', **font)\n",
    "\n",
    "plt.rcParams['font.family'] = 'Times New Roman'\n",
    "plt.rcParams['axes.grid'] = True\n",
    "plt.rcParams['grid.color'] = '#d3d3db'\n",
    "plt.rcParams['axes.linewidth'] = 1.1\n",
    "\n",
    "Model_Num = 10\n",
    "\n",
    "materials = ['1', '2', '3', '4', '5', '6', '7', '8', '9', '10']\n",
    "\n",
    "# CTEs = [CError_mean[101], CError_mean2[101], CError_mean3[101], CError_mean4[101]]\n",
    "# error = [CError_std[101], CError_std2[101], CError_std3[101], CError_std4[101]]\n",
    "\n",
    "x_pos = list((np.arange(0, 4*(Model_Num), 4))+1)\n",
    "x_pos_AL = list((np.arange(0, 4*(Model_Num), 4))+2)\n",
    "x_pos_MAP = list((np.arange(0, 4*(Model_Num), 4))+3)\n",
    "\n",
    "horizon = 50 + 1\n",
    "trials = 1000\n",
    "    \n",
    "# x_pos = np.arange(1, 11)\n",
    "\n",
    "fig, ax = plt.subplots()\n",
    "\n",
    "time_step = 15\n",
    "\n",
    "ax.bar(x_pos, action_percent, alpha=0.9, color='blue', edgecolor='blue', linewidth=1.6, label='Proposed Bayesian Data Collection Policy') #label='Proposed Method Mean')  # , yerr=error) #, align='center', ecolor='#a80505', capsize=10, capstyle='round') #alpha=0.5\n",
    "ax.bar(x_pos_AL, action_percent_AL, alpha=0.9, color='m', edgecolor='m', linewidth=1.6, label='EIG Policy') #label='Proposed Method Mean')  # , yerr=error) #, align='center', ecolor='#a80505', capsize=10, capstyle='round') #alpha=0.5\n",
    "ax.bar(x_pos_MAP, action_percent_MAP, alpha=0.9, color='green', edgecolor='green', linewidth=1.6, label='MAP Policy') #label='Proposed Method Mean')  # , yerr=error) #, align='center', ecolor='#a80505', capsize=10, capstyle='round') #alpha=0.5\n",
    "\n",
    "ax.set_ylabel('Rate of Selection')\n",
    "\n",
    "ax.set_xlabel('Perturbed Gene')\n",
    "ax.set_xticks((np.arange(1, 4*(Model_Num)+1, 4))+1)\n",
    "ax.set_xticklabels(materials)\n",
    "\n",
    "\n",
    "ax.set_ylim(-0.05, 1.05)\n",
    "\n",
    "# plt.legend(loc='upper right')\n",
    "plt.legend(loc='upper center', bbox_to_anchor=(0.50, +1.4), fancybox=True, shadow=True, ncol=1)\n",
    "\n",
    "ax.set_axisbelow(True)\n",
    "\n",
    "# plt.tight_layout()\n",
    "# plt.savefig(\"6.png\", dpi=300)#, bbox_inches = \"tight\")\n",
    "# plt.savefig(\"1_fourth.png\", dpi=300, bbox_inches = \"tight\")\n",
    "\n",
    "plt.show()\n",
    "\n"
   ]
  },
  {
   "cell_type": "code",
   "execution_count": null,
   "id": "4f634972-b6dc-45be-938e-44b284d4b92e",
   "metadata": {},
   "outputs": [],
   "source": []
  }
 ],
 "metadata": {
  "kernelspec": {
   "display_name": "Python 3 (ipykernel)",
   "language": "python",
   "name": "python3"
  },
  "language_info": {
   "codemirror_mode": {
    "name": "ipython",
    "version": 3
   },
   "file_extension": ".py",
   "mimetype": "text/x-python",
   "name": "python",
   "nbconvert_exporter": "python",
   "pygments_lexer": "ipython3",
   "version": "3.7.11"
  }
 },
 "nbformat": 4,
 "nbformat_minor": 5
}
